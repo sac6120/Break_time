{
 "cells": [
  {
   "cell_type": "code",
   "execution_count": null,
   "metadata": {},
   "outputs": [
    {
     "name": "stdout",
     "output_type": "stream",
     "text": [
      "this program started onMon Mar 25 17:04:18 2019\n"
     ]
    }
   ],
   "source": [
    "import webbrowser\n",
    "import time\n",
    "total_count=3\n",
    "count=0\n",
    "print(\"this program started on\"+time.ctime())\n",
    "while(count<total_count):\n",
    "    time.sleep(2*60*60)\n",
    "    if(count==0):\n",
    "        webbrowser.open(\"https://www.youtube.com/watch?v=oHTSok_Y-94\")\n",
    "    if(count==1):\n",
    "        webbrowser.open(\"https://www.youtube.com/watch?v=yaD8guPaf0k\")\n",
    "    if(count==2):\n",
    "        webbrowser.open(\"https://www.youtube.com/watch?v=FhHg3QVZils\")\n",
    "    count+=1\n",
    "    \n"
   ]
  },
  {
   "cell_type": "code",
   "execution_count": null,
   "metadata": {},
   "outputs": [],
   "source": []
  }
 ],
 "metadata": {
  "kernelspec": {
   "display_name": "Python 3",
   "language": "python",
   "name": "python3"
  },
  "language_info": {
   "codemirror_mode": {
    "name": "ipython",
    "version": 3
   },
   "file_extension": ".py",
   "mimetype": "text/x-python",
   "name": "python",
   "nbconvert_exporter": "python",
   "pygments_lexer": "ipython3",
   "version": "3.7.1"
  }
 },
 "nbformat": 4,
 "nbformat_minor": 2
}
